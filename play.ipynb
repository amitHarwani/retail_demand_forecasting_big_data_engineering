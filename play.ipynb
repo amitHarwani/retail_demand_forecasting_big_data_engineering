{
 "cells": [
  {
   "cell_type": "markdown",
   "id": "fd52be71",
   "metadata": {},
   "source": [
    "## split_data.py - TEST"
   ]
  },
  {
   "cell_type": "code",
   "execution_count": 1,
   "id": "74f99d53",
   "metadata": {},
   "outputs": [],
   "source": [
    "import pandas as pd\n",
    "from datetime import timedelta, date"
   ]
  },
  {
   "cell_type": "code",
   "execution_count": null,
   "id": "195fc81a",
   "metadata": {},
   "outputs": [],
   "source": [
    "sales_df = pd.read_csv(\"./data/raw/sales.csv\", parse_dates=['date'])"
   ]
  },
  {
   "cell_type": "code",
   "execution_count": null,
   "id": "a53e7ee3",
   "metadata": {},
   "outputs": [],
   "source": [
    "sales_df.head()"
   ]
  },
  {
   "cell_type": "code",
   "execution_count": null,
   "id": "1ed00be7",
   "metadata": {},
   "outputs": [],
   "source": [
    "min_date_sales = sales_df['date'].min()\n",
    "min_date_sales"
   ]
  },
  {
   "cell_type": "code",
   "execution_count": null,
   "id": "32a46d61",
   "metadata": {},
   "outputs": [],
   "source": [
    "max_date_sales= sales_df['date'].max()\n",
    "max_date_sales"
   ]
  },
  {
   "cell_type": "code",
   "execution_count": null,
   "id": "984964e1",
   "metadata": {},
   "outputs": [],
   "source": [
    "ingestion_sim_start_date = max_date_sales - timedelta(days=30)\n",
    "ingestion_sim_start_date"
   ]
  },
  {
   "cell_type": "code",
   "execution_count": null,
   "id": "2b6b7d3c",
   "metadata": {},
   "outputs": [],
   "source": [
    "train_sales_df = sales_df[sales_df['date'] < ingestion_sim_start_date]\n",
    "daily_ingestion_sales_df = sales_df[sales_df['date'] >= ingestion_sim_start_date]"
   ]
  },
  {
   "cell_type": "code",
   "execution_count": null,
   "id": "b4dcd19b",
   "metadata": {},
   "outputs": [],
   "source": [
    "len(train_sales_df), len(daily_ingestion_sales_df), len(sales_df)"
   ]
  },
  {
   "cell_type": "code",
   "execution_count": null,
   "id": "65d04c12",
   "metadata": {},
   "outputs": [],
   "source": [
    "train_sales_dates = sorted(train_sales_df['date'].unique())\n",
    "train_sales_dates"
   ]
  },
  {
   "cell_type": "code",
   "execution_count": null,
   "id": "953d5222",
   "metadata": {},
   "outputs": [],
   "source": [
    "test = train_sales_dates[0]\n",
    "date_str = pd.to_datetime(test).strftime('%Y-%m-%d')\n",
    "date_str, test"
   ]
  },
  {
   "cell_type": "code",
   "execution_count": null,
   "id": "fabac38f",
   "metadata": {},
   "outputs": [],
   "source": [
    "daily_train_slice = train_sales_df[train_sales_df['date'] == test]\n",
    "daily_train_slice"
   ]
  },
  {
   "cell_type": "markdown",
   "id": "902a7c5f",
   "metadata": {},
   "source": [
    "### initial_ingest.py - Test"
   ]
  },
  {
   "cell_type": "code",
   "execution_count": 2,
   "id": "000c64ca",
   "metadata": {},
   "outputs": [
    {
     "data": {
      "text/plain": [
       "datetime.date(2024, 8, 27)"
      ]
     },
     "execution_count": 2,
     "metadata": {},
     "output_type": "execute_result"
    }
   ],
   "source": [
    "date_str = \"2024-08-27\"\n",
    "date_obj = pd.to_datetime(date_str).date()\n",
    "date_obj"
   ]
  },
  {
   "cell_type": "code",
   "execution_count": 11,
   "id": "bce3e4ed",
   "metadata": {},
   "outputs": [
    {
     "name": "stdout",
     "output_type": "stream",
     "text": [
      "12\n"
     ]
    }
   ],
   "source": [
    "print(f\"{12:02d}\")"
   ]
  },
  {
   "cell_type": "markdown",
   "id": "20c6f6e9",
   "metadata": {},
   "source": [
    "### transform_data - Test"
   ]
  },
  {
   "cell_type": "code",
   "execution_count": 5,
   "id": "0abdeaa0",
   "metadata": {},
   "outputs": [
    {
     "data": {
      "text/plain": [
       "27"
      ]
     },
     "execution_count": 5,
     "metadata": {},
     "output_type": "execute_result"
    }
   ],
   "source": [
    "date.fromisoformat(\"2024-06-27\").day"
   ]
  },
  {
   "cell_type": "code",
   "execution_count": 7,
   "id": "c6a95831",
   "metadata": {},
   "outputs": [],
   "source": [
    "parquet_file = pd.read_parquet(\"./test_parquet.parquet\")"
   ]
  },
  {
   "cell_type": "code",
   "execution_count": 8,
   "id": "9ead7e5d",
   "metadata": {},
   "outputs": [
    {
     "name": "stdout",
     "output_type": "stream",
     "text": [
      "<class 'pandas.core.frame.DataFrame'>\n",
      "RangeIndex: 6628 entries, 0 to 6627\n",
      "Data columns (total 7 columns):\n",
      " #   Column      Non-Null Count  Dtype         \n",
      "---  ------      --------------  -----         \n",
      " 0   Unnamed: 0  6628 non-null   int64         \n",
      " 1   date        6628 non-null   datetime64[ns]\n",
      " 2   item_id     6628 non-null   object        \n",
      " 3   quantity    6628 non-null   float64       \n",
      " 4   price_base  6628 non-null   float64       \n",
      " 5   sum_total   6628 non-null   float64       \n",
      " 6   store_id    6628 non-null   int64         \n",
      "dtypes: datetime64[ns](1), float64(3), int64(2), object(1)\n",
      "memory usage: 362.6+ KB\n"
     ]
    }
   ],
   "source": [
    "parquet_file.info()"
   ]
  },
  {
   "cell_type": "code",
   "execution_count": 9,
   "id": "131c7148",
   "metadata": {},
   "outputs": [
    {
     "data": {
      "text/plain": [
       "Unnamed: 0               15978960\n",
       "date          2022-08-28 00:00:00\n",
       "item_id              f425b0812091\n",
       "quantity                      1.0\n",
       "price_base                   49.9\n",
       "sum_total                    49.9\n",
       "store_id                        2\n",
       "Name: 0, dtype: object"
      ]
     },
     "execution_count": 9,
     "metadata": {},
     "output_type": "execute_result"
    }
   ],
   "source": [
    "parquet_file.iloc[0]"
   ]
  },
  {
   "cell_type": "code",
   "execution_count": 11,
   "id": "1832be85",
   "metadata": {},
   "outputs": [
    {
     "name": "stdout",
     "output_type": "stream",
     "text": [
      "<class 'pandas.core.frame.DataFrame'>\n",
      "RangeIndex: 8979 entries, 0 to 8978\n",
      "Data columns (total 7 columns):\n",
      " #   Column        Non-Null Count  Dtype  \n",
      "---  ------        --------------  -----  \n",
      " 0   Unnamed: 0    8979 non-null   int64  \n",
      " 1   date          8979 non-null   object \n",
      " 2   item_id       8979 non-null   object \n",
      " 3   normal_price  8979 non-null   float64\n",
      " 4   price         8979 non-null   float64\n",
      " 5   quantity      8979 non-null   float64\n",
      " 6   store_id      8979 non-null   int64  \n",
      "dtypes: float64(3), int64(2), object(2)\n",
      "memory usage: 491.2+ KB\n"
     ]
    }
   ],
   "source": [
    "df = pd.read_csv(\"./data/split/markdowns.csv\")\n",
    "df.info()"
   ]
  },
  {
   "cell_type": "code",
   "execution_count": null,
   "id": "9184a428",
   "metadata": {},
   "outputs": [],
   "source": []
  }
 ],
 "metadata": {
  "kernelspec": {
   "display_name": "Python 3",
   "language": "python",
   "name": "python3"
  },
  "language_info": {
   "codemirror_mode": {
    "name": "ipython",
    "version": 3
   },
   "file_extension": ".py",
   "mimetype": "text/x-python",
   "name": "python",
   "nbconvert_exporter": "python",
   "pygments_lexer": "ipython3",
   "version": "3.13.2"
  }
 },
 "nbformat": 4,
 "nbformat_minor": 5
}
